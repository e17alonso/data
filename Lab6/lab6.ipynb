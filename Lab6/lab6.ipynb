{
 "cells": [
  {
   "attachments": {},
   "cell_type": "markdown",
   "id": "51182ccc",
   "metadata": {},
   "source": [
    "# Laboratorio 6\n"
   ]
  },
  {
   "cell_type": "code",
   "execution_count": 1,
   "id": "5b2a76c0",
   "metadata": {},
   "outputs": [],
   "source": [
    "import re"
   ]
  },
  {
   "cell_type": "markdown",
   "id": "76bc033a",
   "metadata": {},
   "source": [
    "### Placas"
   ]
  },
  {
   "cell_type": "code",
   "execution_count": 25,
   "id": "d9e9e739",
   "metadata": {
    "scrolled": false
   },
   "outputs": [
    {
     "name": "stdout",
     "output_type": "stream",
     "text": [
      "Placa válida\n"
     ]
    }
   ],
   "source": [
    "def placas(placa):\n",
    "    p=r'^P\\d\\d\\d[A-Z][A-Z][A-z]'\n",
    "    return(re.findall(p,placa))\n",
    "\n",
    "string1=\"P096FZL\"\n",
    "\n",
    "if placas(string1):\n",
    "    print('Placa válida')\n",
    "else:\n",
    "    print('Placa inválida')\n"
   ]
  },
  {
   "cell_type": "markdown",
   "id": "c8298dc1",
   "metadata": {},
   "source": [
    "### Archivos\n"
   ]
  },
  {
   "cell_type": "code",
   "execution_count": 29,
   "id": "a41680fe",
   "metadata": {},
   "outputs": [
    {
     "name": "stdout",
     "output_type": "stream",
     "text": [
      "Es un archivo jpg\n"
     ]
    }
   ],
   "source": [
    "def archivo(string):\n",
    "    p=r'.pdf$|.jpg$'\n",
    "    return(re.findall(p,string))\n",
    "\n",
    "string2='foto.jpg'\n",
    "\n",
    "if archivo(string2):\n",
    "    if archivo(string2)[0]=='.pdf':\n",
    "       print('Es un archivo pdf')\n",
    "    elif archivo(string2)[0]=='.jpg':\n",
    "        print('Es un archivo jpg')\n",
    "else:\n",
    "    print('Es un archivo inválido')"
   ]
  },
  {
   "cell_type": "markdown",
   "id": "7b4c32a4",
   "metadata": {},
   "source": [
    " ### Contraseña"
   ]
  },
  {
   "cell_type": "code",
   "execution_count": 30,
   "id": "8c51317a",
   "metadata": {},
   "outputs": [
    {
     "name": "stdout",
     "output_type": "stream",
     "text": [
      "Contraseña válida\n"
     ]
    }
   ],
   "source": [
    "def contraseña(string):\n",
    "    c=r'\\w'\n",
    "    m=r'[A-Z]'\n",
    "    patron = r'[^a-zA-Z0-9\\s]'\n",
    "    caracteres=re.findall(c,string)\n",
    "    mayusculas=re.findall(m,string)\n",
    "    especiales=re.findall(patron,string)\n",
    "    return(caracteres,mayusculas,especiales)\n",
    "\n",
    "\n",
    "string3='#Contraseña123'\n",
    "\n",
    "c,m,e=contraseña(string3) \n",
    "if(len(c)>=8 and len(m)>=1 and len(e)>=1):\n",
    "    print('Contraseña válida')\n",
    "else:\n",
    "    print('Contraseña inválida')"
   ]
  },
  {
   "cell_type": "markdown",
   "id": "8c793a03",
   "metadata": {},
   "source": [
    "### Correo"
   ]
  },
  {
   "cell_type": "code",
   "execution_count": 31,
   "id": "e8a2ee3e",
   "metadata": {},
   "outputs": [
    {
     "name": "stdout",
     "output_type": "stream",
     "text": [
      "Correo proveniente de la ufm\n"
     ]
    }
   ],
   "source": [
    "def correo(string):\n",
    "    p=r'@ufm.edu$'\n",
    "    return(re.findall(p,string))\n",
    "\n",
    "\n",
    "string4='rolandoalonso@ufm.edu'\n",
    "\n",
    "if correo(string4):\n",
    "    print('Correo proveniente de la ufm')\n",
    "else:\n",
    "    print('Correo proveniente de otra institución')\n"
   ]
  },
  {
   "cell_type": "markdown",
   "id": "3be3afc5",
   "metadata": {},
   "source": [
    "### Carne"
   ]
  },
  {
   "cell_type": "code",
   "execution_count": 32,
   "id": "5ceb230c",
   "metadata": {},
   "outputs": [
    {
     "name": "stdout",
     "output_type": "stream",
     "text": [
      "carné válido\n"
     ]
    }
   ],
   "source": [
    "def carne(string):\n",
    "    p = r'([0-3][0-9])(00)(1[1-9][1-9][0-9]|[2-7][0-9]{3}|[8][0-9][0-7][0])'\n",
    "    return re.findall(p, string)\n",
    "\n",
    "string5='19001234'\n",
    "\n",
    "\n",
    "if carne(string5):\n",
    "    print('carné válido')\n",
    "else:\n",
    "    print('carné inválido')"
   ]
  },
  {
   "cell_type": "markdown",
   "id": "a5bc27d8",
   "metadata": {},
   "source": [
    "### Numero telefónico"
   ]
  },
  {
   "cell_type": "code",
   "execution_count": 34,
   "id": "f252e4a4",
   "metadata": {},
   "outputs": [
    {
     "name": "stdout",
     "output_type": "stream",
     "text": [
      "[('+50254821151', '+502', '', '5', '482', '', '1151'), (' 4210-7640', '', ' ', '4', '210', '-', '7640'), (' 52018150', '', ' ', '5', '201', '', '8150'), (' 2434 6854', '', ' ', '2', '434', ' ', '6854'), (' 50211234', '', ' ', '5', '021', '', '1234')]\n"
     ]
    }
   ],
   "source": [
    "\n",
    "def numero(string):\n",
    "    p = r'((\\+502|502)?(\\s)?(4|5|6|2)(\\d\\d\\d)(-|\\s)?(\\d\\d\\d\\d))'\n",
    "    return(re.findall(p,string))\n",
    "\n",
    "string6='+50254821151, 4210-7640, 52018150, 2434 6854, 11234569, 50211234578'\n",
    "print(numero(string6))"
   ]
  }
 ],
 "metadata": {
  "kernelspec": {
   "display_name": "Python 3 (ipykernel)",
   "language": "python",
   "name": "python3"
  },
  "language_info": {
   "codemirror_mode": {
    "name": "ipython",
    "version": 3
   },
   "file_extension": ".py",
   "mimetype": "text/x-python",
   "name": "python",
   "nbconvert_exporter": "python",
   "pygments_lexer": "ipython3",
   "version": "3.7.16"
  }
 },
 "nbformat": 4,
 "nbformat_minor": 5
}
